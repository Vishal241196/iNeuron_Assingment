{
 "cells": [
  {
   "cell_type": "code",
   "execution_count": 1,
   "id": "18bd73de",
   "metadata": {},
   "outputs": [
    {
     "name": "stdout",
     "output_type": "stream",
     "text": [
      "Vandermonde matrix:\n",
      "[[  1   1   1   1   1]\n",
      " [ 16   8   4   2   1]\n",
      " [ 81  27   9   3   1]\n",
      " [256  64  16   4   1]]\n",
      "\n",
      "Moving average sequence:\n",
      "[  5.           4.66666667   5.66666667   6.66666667   9.66666667\n",
      "  28.66666667  49.33333333  72.66666667  84.          93.33333333\n",
      " 116.33333333]\n"
     ]
    }
   ],
   "source": [
    "import numpy as np\n",
    "\n",
    "# Function to generate Vandermonde matrix\n",
    "def vandermonde_vector(input_vector, N, increasing=False):\n",
    "    \"\"\"\n",
    "    Generate a Vandermonde matrix based on the input vector.\n",
    "\n",
    "    Parameters:\n",
    "    input_vector (array_like): Input vector.\n",
    "    N (int): Number of columns in the output matrix.\n",
    "    increasing (bool, optional): Determines the order of the powers in each output column.\n",
    "                                 If False (default), the i-th output column is the input vector\n",
    "                                 raised element-wise to the power of N - i - 1. If True, the\n",
    "                                 order is reversed.\n",
    "\n",
    "    Returns:\n",
    "    ndarray: Vandermonde matrix.\n",
    "\n",
    "    \"\"\"\n",
    "    input_vector = np.array(input_vector)\n",
    "    if increasing:\n",
    "        return np.column_stack([input_vector**i for i in range(N)])\n",
    "    else:\n",
    "        return np.column_stack([input_vector**(N-i-1) for i in range(N)])\n",
    "\n",
    "\n",
    "# Function to calculate moving average\n",
    "def moving_average(input_sequence, k):\n",
    "    \"\"\"\n",
    "    Calculate the moving average of a sequence over a window size k.\n",
    "\n",
    "    Parameters:\n",
    "    input_sequence (array_like): Input sequence of values.\n",
    "    k (int): Window size.\n",
    "\n",
    "    Returns:\n",
    "    ndarray: Moving average sequence.\n",
    "\n",
    "    \"\"\"\n",
    "    input_sequence = np.array(input_sequence)\n",
    "    n = len(input_sequence)\n",
    "    return np.convolve(input_sequence, np.ones(k), mode='valid') / k\n",
    "\n",
    "\n",
    "# Test the functions\n",
    "if __name__ == \"__main__\":\n",
    "    # Test Vandermonde function\n",
    "    input_vector = [1, 2, 3, 4]\n",
    "    N = 5\n",
    "    print(\"Vandermonde matrix:\")\n",
    "    print(vandermonde_vector(input_vector, N))\n",
    "\n",
    "    # Test moving average function\n",
    "    input_sequence = [3, 5, 7, 2, 8, 10, 11, 65, 72, 81, 99, 100, 150]\n",
    "    k = 3\n",
    "    print(\"\\nMoving average sequence:\")\n",
    "    print(moving_average(input_sequence, k))\n"
   ]
  },
  {
   "cell_type": "code",
   "execution_count": null,
   "id": "c3bbe6d2",
   "metadata": {},
   "outputs": [],
   "source": []
  }
 ],
 "metadata": {
  "kernelspec": {
   "display_name": "Python 3",
   "language": "python",
   "name": "python3"
  },
  "language_info": {
   "codemirror_mode": {
    "name": "ipython",
    "version": 3
   },
   "file_extension": ".py",
   "mimetype": "text/x-python",
   "name": "python",
   "nbconvert_exporter": "python",
   "pygments_lexer": "ipython3",
   "version": "3.8.8"
  }
 },
 "nbformat": 4,
 "nbformat_minor": 5
}
