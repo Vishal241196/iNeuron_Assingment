{
 "cells": [
  {
   "cell_type": "code",
   "execution_count": 1,
   "id": "7f4c46b6",
   "metadata": {},
   "outputs": [],
   "source": [
    "# create a dictionary\n",
    "dict1 = {'data': '123',\n",
    "'science':'234',\n",
    "'AI': '235'}"
   ]
  },
  {
   "cell_type": "raw",
   "id": "720fa80d",
   "metadata": {},
   "source": [
    "1. write a program to sort a dictionary by key."
   ]
  },
  {
   "cell_type": "code",
   "execution_count": 3,
   "id": "3d95431d",
   "metadata": {},
   "outputs": [
    {
     "name": "stdout",
     "output_type": "stream",
     "text": [
      "AI: 235\n",
      "data: 123\n",
      "science: 234\n"
     ]
    }
   ],
   "source": [
    "for key in sorted(dict1):\n",
    "    print(\"%s: %s\" % (key, dict1[key]))"
   ]
  },
  {
   "cell_type": "raw",
   "id": "75bc6db6",
   "metadata": {},
   "source": [
    "2. Write a Python program to get a dictionary from an object's fields."
   ]
  },
  {
   "cell_type": "code",
   "execution_count": 5,
   "id": "7a891bd4",
   "metadata": {},
   "outputs": [
    {
     "name": "stdout",
     "output_type": "stream",
     "text": [
      "{'x': 'algorithm', 'y': 'statistics', 'z': 'programming'}\n"
     ]
    }
   ],
   "source": [
    "class dictObj(object):\n",
    "    def __init__(self):\n",
    "        self.x = 'algorithm'\n",
    "        self.y = 'statistics'\n",
    "        self.z = 'programming'\n",
    "    def do_nothing(self):\n",
    "        pass\n",
    "test = dictObj()\n",
    "print(test.__dict__)"
   ]
  },
  {
   "cell_type": "raw",
   "id": "c5000ab6",
   "metadata": {},
   "source": [
    "3. write a program to remove duplicates from Dictionary."
   ]
  },
  {
   "cell_type": "code",
   "execution_count": 6,
   "id": "796d2bef",
   "metadata": {},
   "outputs": [
    {
     "name": "stdout",
     "output_type": "stream",
     "text": [
      "{'id1': {'name': ['Sara'], 'class': ['V'], 'subject_integration': ['english, math, science']}, 'id2': {'name': ['David'], 'class': ['V'], 'subject_integration': ['english, math, science']}, 'id4': {'name': ['Surya'], 'class': ['V'], 'subject_integration': ['english, math, science']}}\n"
     ]
    }
   ],
   "source": [
    "student_data = {'id1':\n",
    "{'name': ['Sara'],\n",
    "'class': ['V'],\n",
    "'subject_integration': ['english, math, science']\n",
    "},\n",
    "'id2':\n",
    "{'name': ['David'],\n",
    "'class': ['V'],\n",
    "'subject_integration': ['english, math, science']\n",
    "},\n",
    "'id3':\n",
    "{'name': ['Sara'],\n",
    "'class': ['V'],\n",
    "'subject_integration': ['english, math, science']\n",
    "},\n",
    "'id4':\n",
    "{'name': ['Surya'],\n",
    "'class': ['V'],\n",
    "'subject_integration': ['english, math, science']\n",
    "},\n",
    "}\n",
    "result = {}\n",
    "for key,value in student_data.items():\n",
    "    if value not in result.values():\n",
    "        result[key] = value\n",
    "print(result)"
   ]
  },
  {
   "cell_type": "raw",
   "id": "a716e931",
   "metadata": {},
   "source": [
    "4. write a program to combine two dictionary adding values for common keys"
   ]
  },
  {
   "cell_type": "code",
   "execution_count": 7,
   "id": "d0636f70",
   "metadata": {},
   "outputs": [
    {
     "name": "stdout",
     "output_type": "stream",
     "text": [
      "Counter({'b': 3400, 'a': 1300, 'c': 1300, 'd': 400})\n"
     ]
    }
   ],
   "source": [
    "from collections import Counter\n",
    "d1 = {'a': 1000, 'b': 3200, 'c':1300}\n",
    "d2 = {'a': 300, 'b': 200, 'd':400}\n",
    "d = Counter(d1) + Counter(d2)\n",
    "print(d)"
   ]
  },
  {
   "cell_type": "raw",
   "id": "bde586e7",
   "metadata": {},
   "source": [
    "5. write a program to print all unique values from a dictionary in a list"
   ]
  },
  {
   "cell_type": "code",
   "execution_count": 8,
   "id": "e569c966",
   "metadata": {},
   "outputs": [
    {
     "name": "stdout",
     "output_type": "stream",
     "text": [
      "Unique Values:  {'S007', 'S001', 'S005', 'S009', 'S002'}\n"
     ]
    }
   ],
   "source": [
    "data = [{\"V\":\"S001\"}, {\"V\": \"S002\"}, {\"VI\": \"S001\"}, {\"VI\": \"S005\"}, {\"VII\":\"S005\"}, {\"V\":\"S009\"},{\"VIII\":\"S007\"}]\n",
    "u_value = set( val for dic in data for val in dic.values())\n",
    "print(\"Unique Values: \",u_value)"
   ]
  },
  {
   "cell_type": "code",
   "execution_count": null,
   "id": "b5fec273",
   "metadata": {},
   "outputs": [],
   "source": []
  }
 ],
 "metadata": {
  "kernelspec": {
   "display_name": "Python 3",
   "language": "python",
   "name": "python3"
  },
  "language_info": {
   "codemirror_mode": {
    "name": "ipython",
    "version": 3
   },
   "file_extension": ".py",
   "mimetype": "text/x-python",
   "name": "python",
   "nbconvert_exporter": "python",
   "pygments_lexer": "ipython3",
   "version": "3.8.8"
  }
 },
 "nbformat": 4,
 "nbformat_minor": 5
}
