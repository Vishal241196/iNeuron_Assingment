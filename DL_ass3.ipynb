{
  "cells": [
    {
      "cell_type": "code",
      "source": [
        "from flask import Flask, request, render_template_string\n",
        "import numpy as np\n",
        "from keras.models import load_model\n",
        "from keras.preprocessing import image\n",
        "import os"
      ],
      "metadata": {
        "id": "9s53gU72Uk2e"
      },
      "id": "9s53gU72Uk2e",
      "execution_count": 1,
      "outputs": []
    },
    {
      "cell_type": "code",
      "source": [
        "# HTML template for the web page\n",
        "HTML = '''\n",
        "<!DOCTYPE html>\n",
        "<html>\n",
        "<body>\n",
        "<h1>Dog Breed Prediction</h1>\n",
        "<form action=\"/\" method=\"post\" enctype=\"multipart/form-data\">\n",
        "  <input type=\"file\" name=\"file\" required>\n",
        "  <input type=\"submit\" value=\"Upload Image\">\n",
        "</form>\n",
        "{{ prediction_text }}\n",
        "</body>\n",
        "</html>\n",
        "'''\n"
      ],
      "metadata": {
        "id": "MjcJTt71WTwz"
      },
      "id": "MjcJTt71WTwz",
      "execution_count": 2,
      "outputs": []
    },
    {
      "cell_type": "code",
      "source": [
        "# Initialize the Flask application\n",
        "app = Flask(__name__)\n",
        "\n",
        "# Load the pre-trained Keras model (make sure the model path is correct)\n",
        "model = load_model('model.h5')\n",
        "\n",
        "@app.route('/', methods=['GET', 'POST'])\n",
        "def upload_file():\n",
        "    if request.method == 'POST':\n",
        "        # Check if the post request has the file part\n",
        "        if 'file' not in request.files:\n",
        "            return render_template_string(HTML, prediction_text='No file part')\n",
        "        file = request.files['file']\n",
        "        if file.filename == '':\n",
        "            return render_template_string(HTML, prediction_text='No selected file')\n",
        "\n",
        "        if file:\n",
        "            # Save the file to the uploads folder\n",
        "            basepath = os.path.dirname(__file__)\n",
        "            file_path = os.path.join(basepath, 'uploads', file.filename)\n",
        "            file.save(file_path)\n",
        "\n",
        "            # Make prediction\n",
        "            img = image.load_img(file_path, target_size=(224, 224))\n",
        "            img_array = image.img_to_array(img)\n",
        "            img_array = np.expand_dims(img_array, axis=0)  # Create a batch\n",
        "\n",
        "            predictions = model.predict(img_array)\n",
        "            predicted_class = np.argmax(predictions, axis=1)  # Assuming class indices are breed names\n",
        "\n",
        "            # Map the predictions to actual breed names\n",
        "            breeds = ['breed1', 'breed2', 'breed3', ..., 'breed120']  # Update with actual breed names\n",
        "            predicted_breed = breeds[predicted_class[0]]\n",
        "\n",
        "            return render_template_string(HTML, prediction_text=f'Predicted Breed: {predicted_breed}')\n",
        "\n",
        "    return render_template_string(HTML, prediction_text='')\n",
        "\n",
        "if __name__ == '__main__':\n",
        "    app.run(debug=True, port=5000)\n"
      ],
      "metadata": {
        "id": "iph5CU5UMmSM"
      },
      "id": "iph5CU5UMmSM",
      "execution_count": null,
      "outputs": []
    }
  ],
  "metadata": {
    "kernelspec": {
      "display_name": "Python 3",
      "language": "python",
      "name": "python3"
    },
    "language_info": {
      "codemirror_mode": {
        "name": "ipython",
        "version": 3
      },
      "file_extension": ".py",
      "mimetype": "text/x-python",
      "name": "python",
      "nbconvert_exporter": "python",
      "pygments_lexer": "ipython3",
      "version": "3.8.8"
    },
    "colab": {
      "provenance": []
    }
  },
  "nbformat": 4,
  "nbformat_minor": 5
}